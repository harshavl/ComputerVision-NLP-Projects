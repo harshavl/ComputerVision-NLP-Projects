{
 "cells": [
  {
   "cell_type": "markdown",
   "metadata": {},
   "source": [
    "## How to Label the ISCX Data\n",
    "\n",
    "\n",
    "### 1) Load the Data"
   ]
  },
  {
   "cell_type": "code",
   "execution_count": 28,
   "metadata": {},
   "outputs": [],
   "source": [
    "import pandas as pd\n",
    "from time import time"
   ]
  },
  {
   "cell_type": "code",
   "execution_count": 29,
   "metadata": {},
   "outputs": [
    {
     "name": "stdout",
     "output_type": "stream",
     "text": [
      "Wall time: 12.1 s\n"
     ]
    },
    {
     "name": "stderr",
     "output_type": "stream",
     "text": [
      "<string>:2: DtypeWarning: Columns (6,7) have mixed types. Specify dtype option on import or set low_memory=False.\n"
     ]
    }
   ],
   "source": [
    "%%time\n",
    "\n",
    "data = pd.read_csv('ISCX_ISCX_Botnet.csv')\n",
    "data.head(2)"
   ]
  },
  {
   "cell_type": "markdown",
   "metadata": {},
   "source": [
    "### Shuffle the data"
   ]
  },
  {
   "cell_type": "code",
   "execution_count": 30,
   "metadata": {},
   "outputs": [],
   "source": [
    "data = data.sample(frac=1).reset_index(drop=True)"
   ]
  },
  {
   "cell_type": "code",
   "execution_count": 31,
   "metadata": {},
   "outputs": [
    {
     "data": {
      "text/plain": [
       "Index(['Source IP', ' Source Port', ' Destination IP', ' Destination Port',\n",
       "       ' Protocol', ' Flow Duration', ' Flow Bytes/s', ' Flow Packets/s',\n",
       "       ' Flow IAT Mean', ' Flow IAT Std', ' Flow IAT Max', ' Flow IAT Min',\n",
       "       'Fwd IAT Mean', ' Fwd IAT Std', ' Fwd IAT Max', ' Fwd IAT Min',\n",
       "       'Bwd IAT Mean', ' Bwd IAT Std', ' Bwd IAT Max', ' Bwd IAT Min',\n",
       "       'Active Mean', ' Active Std', ' Active Max', ' Active Min', 'Idle Mean',\n",
       "       ' Idle Std', ' Idle Max', ' Idle Min', 'label'],\n",
       "      dtype='object')"
      ]
     },
     "execution_count": 31,
     "metadata": {},
     "output_type": "execute_result"
    }
   ],
   "source": [
    "data.columns"
   ]
  },
  {
   "cell_type": "code",
   "execution_count": 32,
   "metadata": {},
   "outputs": [
    {
     "data": {
      "text/plain": [
       "(309206, 29)"
      ]
     },
     "execution_count": 32,
     "metadata": {},
     "output_type": "execute_result"
    }
   ],
   "source": [
    "data.shape"
   ]
  },
  {
   "cell_type": "code",
   "execution_count": 33,
   "metadata": {},
   "outputs": [
    {
     "data": {
      "text/html": [
       "<div>\n",
       "<style scoped>\n",
       "    .dataframe tbody tr th:only-of-type {\n",
       "        vertical-align: middle;\n",
       "    }\n",
       "\n",
       "    .dataframe tbody tr th {\n",
       "        vertical-align: top;\n",
       "    }\n",
       "\n",
       "    .dataframe thead th {\n",
       "        text-align: right;\n",
       "    }\n",
       "</style>\n",
       "<table border=\"1\" class=\"dataframe\">\n",
       "  <thead>\n",
       "    <tr style=\"text-align: right;\">\n",
       "      <th></th>\n",
       "      <th>Source IP</th>\n",
       "      <th>Source Port</th>\n",
       "      <th>Destination IP</th>\n",
       "      <th>Destination Port</th>\n",
       "      <th>Protocol</th>\n",
       "      <th>Flow Duration</th>\n",
       "      <th>Flow Bytes/s</th>\n",
       "      <th>Flow Packets/s</th>\n",
       "      <th>Flow IAT Mean</th>\n",
       "      <th>Flow IAT Std</th>\n",
       "      <th>...</th>\n",
       "      <th>Bwd IAT Min</th>\n",
       "      <th>Active Mean</th>\n",
       "      <th>Active Std</th>\n",
       "      <th>Active Max</th>\n",
       "      <th>Active Min</th>\n",
       "      <th>Idle Mean</th>\n",
       "      <th>Idle Std</th>\n",
       "      <th>Idle Max</th>\n",
       "      <th>Idle Min</th>\n",
       "      <th>label</th>\n",
       "    </tr>\n",
       "  </thead>\n",
       "  <tbody>\n",
       "    <tr>\n",
       "      <th>0</th>\n",
       "      <td>158.65.110.24</td>\n",
       "      <td>57782</td>\n",
       "      <td>158.65.12.103</td>\n",
       "      <td>53</td>\n",
       "      <td>17</td>\n",
       "      <td>359</td>\n",
       "      <td>300836</td>\n",
       "      <td>5571.030640668524</td>\n",
       "      <td>359.000000</td>\n",
       "      <td>0.000000</td>\n",
       "      <td>...</td>\n",
       "      <td>0.0</td>\n",
       "      <td>0.0</td>\n",
       "      <td>0.0</td>\n",
       "      <td>0.0</td>\n",
       "      <td>0.0</td>\n",
       "      <td>0.0</td>\n",
       "      <td>0.0</td>\n",
       "      <td>0.0</td>\n",
       "      <td>0.0</td>\n",
       "      <td>ISCX</td>\n",
       "    </tr>\n",
       "    <tr>\n",
       "      <th>1</th>\n",
       "      <td>158.65.110.24</td>\n",
       "      <td>40313</td>\n",
       "      <td>199.59.148.82</td>\n",
       "      <td>80</td>\n",
       "      <td>6</td>\n",
       "      <td>90217</td>\n",
       "      <td>0.0</td>\n",
       "      <td>22.16877085250008</td>\n",
       "      <td>90217.000000</td>\n",
       "      <td>0.000000</td>\n",
       "      <td>...</td>\n",
       "      <td>0.0</td>\n",
       "      <td>0.0</td>\n",
       "      <td>0.0</td>\n",
       "      <td>0.0</td>\n",
       "      <td>0.0</td>\n",
       "      <td>0.0</td>\n",
       "      <td>0.0</td>\n",
       "      <td>0.0</td>\n",
       "      <td>0.0</td>\n",
       "      <td>ISCX</td>\n",
       "    </tr>\n",
       "    <tr>\n",
       "      <th>2</th>\n",
       "      <td>192.168.3.114</td>\n",
       "      <td>4489</td>\n",
       "      <td>67.20.126.228</td>\n",
       "      <td>80</td>\n",
       "      <td>6</td>\n",
       "      <td>1693732</td>\n",
       "      <td>403.252</td>\n",
       "      <td>4.13289</td>\n",
       "      <td>282288.666667</td>\n",
       "      <td>433687.043603</td>\n",
       "      <td>...</td>\n",
       "      <td>7.0</td>\n",
       "      <td>0.0</td>\n",
       "      <td>0.0</td>\n",
       "      <td>0.0</td>\n",
       "      <td>0.0</td>\n",
       "      <td>0.0</td>\n",
       "      <td>0.0</td>\n",
       "      <td>0.0</td>\n",
       "      <td>0.0</td>\n",
       "      <td>ISCX</td>\n",
       "    </tr>\n",
       "    <tr>\n",
       "      <th>3</th>\n",
       "      <td>172.16.2.11</td>\n",
       "      <td>17962</td>\n",
       "      <td>10.0.0.254</td>\n",
       "      <td>53</td>\n",
       "      <td>17</td>\n",
       "      <td>319163</td>\n",
       "      <td>288.254</td>\n",
       "      <td>6.26639</td>\n",
       "      <td>319163.000000</td>\n",
       "      <td>0.000000</td>\n",
       "      <td>...</td>\n",
       "      <td>0.0</td>\n",
       "      <td>0.0</td>\n",
       "      <td>0.0</td>\n",
       "      <td>0.0</td>\n",
       "      <td>0.0</td>\n",
       "      <td>0.0</td>\n",
       "      <td>0.0</td>\n",
       "      <td>0.0</td>\n",
       "      <td>0.0</td>\n",
       "      <td>ISCX</td>\n",
       "    </tr>\n",
       "    <tr>\n",
       "      <th>4</th>\n",
       "      <td>72.14.204.118</td>\n",
       "      <td>80</td>\n",
       "      <td>192.168.3.114</td>\n",
       "      <td>2534</td>\n",
       "      <td>6</td>\n",
       "      <td>255</td>\n",
       "      <td>0</td>\n",
       "      <td>7843.14</td>\n",
       "      <td>255.000000</td>\n",
       "      <td>0.000000</td>\n",
       "      <td>...</td>\n",
       "      <td>0.0</td>\n",
       "      <td>0.0</td>\n",
       "      <td>0.0</td>\n",
       "      <td>0.0</td>\n",
       "      <td>0.0</td>\n",
       "      <td>0.0</td>\n",
       "      <td>0.0</td>\n",
       "      <td>0.0</td>\n",
       "      <td>0.0</td>\n",
       "      <td>ISCX</td>\n",
       "    </tr>\n",
       "  </tbody>\n",
       "</table>\n",
       "<p>5 rows × 29 columns</p>\n",
       "</div>"
      ],
      "text/plain": [
       "       Source IP   Source Port  Destination IP   Destination Port   Protocol  \\\n",
       "0  158.65.110.24         57782   158.65.12.103                 53         17   \n",
       "1  158.65.110.24         40313   199.59.148.82                 80          6   \n",
       "2  192.168.3.114          4489   67.20.126.228                 80          6   \n",
       "3    172.16.2.11         17962      10.0.0.254                 53         17   \n",
       "4  72.14.204.118            80   192.168.3.114               2534          6   \n",
       "\n",
       "    Flow Duration  Flow Bytes/s     Flow Packets/s   Flow IAT Mean  \\\n",
       "0             359        300836  5571.030640668524      359.000000   \n",
       "1           90217           0.0  22.16877085250008    90217.000000   \n",
       "2         1693732       403.252            4.13289   282288.666667   \n",
       "3          319163       288.254            6.26639   319163.000000   \n",
       "4             255             0            7843.14      255.000000   \n",
       "\n",
       "    Flow IAT Std  ...     Bwd IAT Min  Active Mean   Active Std   Active Max  \\\n",
       "0       0.000000  ...             0.0          0.0          0.0          0.0   \n",
       "1       0.000000  ...             0.0          0.0          0.0          0.0   \n",
       "2  433687.043603  ...             7.0          0.0          0.0          0.0   \n",
       "3       0.000000  ...             0.0          0.0          0.0          0.0   \n",
       "4       0.000000  ...             0.0          0.0          0.0          0.0   \n",
       "\n",
       "    Active Min  Idle Mean   Idle Std   Idle Max   Idle Min  label  \n",
       "0          0.0        0.0        0.0        0.0        0.0   ISCX  \n",
       "1          0.0        0.0        0.0        0.0        0.0   ISCX  \n",
       "2          0.0        0.0        0.0        0.0        0.0   ISCX  \n",
       "3          0.0        0.0        0.0        0.0        0.0   ISCX  \n",
       "4          0.0        0.0        0.0        0.0        0.0   ISCX  \n",
       "\n",
       "[5 rows x 29 columns]"
      ]
     },
     "execution_count": 33,
     "metadata": {},
     "output_type": "execute_result"
    }
   ],
   "source": [
    "\n",
    "data.head()"
   ]
  },
  {
   "cell_type": "code",
   "execution_count": 34,
   "metadata": {},
   "outputs": [
    {
     "data": {
      "text/plain": [
       "(10000, 29)"
      ]
     },
     "execution_count": 34,
     "metadata": {},
     "output_type": "execute_result"
    }
   ],
   "source": [
    "#take the first 10000 rows to save time\n",
    "data = data.iloc[:10000,:]\n",
    "data.shape"
   ]
  },
  {
   "cell_type": "markdown",
   "metadata": {},
   "source": [
    "### 2) Load list of IP addresses and their corresponding Botnet Names\n",
    "\n",
    "Data taken from: https://www.unb.ca/cic/datasets/botnet.html\n",
    "\n",
    "#### functions to apply labelling according to Source and Destination IP addresses"
   ]
  },
  {
   "cell_type": "code",
   "execution_count": 36,
   "metadata": {},
   "outputs": [],
   "source": [
    "# load ip addresses and the labels\n",
    "ip1 = pd.read_csv('bots1.csv')\n",
    "ip2 = pd.read_csv('bots2.csv')"
   ]
  },
  {
   "cell_type": "code",
   "execution_count": 37,
   "metadata": {},
   "outputs": [],
   "source": [
    "#this function goes through the data one row at a time, checks the source IP and checkes if it exists in ip1\n",
    "#if so, then this row is given the Botnet label\n",
    "def find_class1(row):\n",
    "    sourceIP = str(row['Source IP'])\n",
    "    #destIP = str(row[' Destination IP'])\n",
    "    #print(sourceIP+' -- '+destIP)\n",
    "    for index, ip_row in ip1.iterrows():\n",
    "        #print('\\tcompare to: ' + ip_row['SrcIP']+' -- '+ip_row['DestIP'])\n",
    "        if sourceIP == ip_row['IP']:\n",
    "            s = ip_row['Bot']\n",
    "            return s\n",
    "    \n",
    "    return 'Other'"
   ]
  },
  {
   "cell_type": "code",
   "execution_count": 38,
   "metadata": {},
   "outputs": [],
   "source": [
    "# this function goes through the data one row at a time, checks the source and dest IPs and checkes if they both\n",
    "# exist in ip2, if so, then this row is given the Botnet label\n",
    "def find_class2(row):\n",
    "    sourceIP = str(row['Source IP'])\n",
    "    destIP = str(row[' Destination IP'])\n",
    "    #print(sourceIP+' -- '+destIP)\n",
    "    for index, ip_row in ip2.iterrows():\n",
    "        #print('\\tcompare to: ' + ip_row['SrcIP']+' -- '+ip_row['DestIP'])\n",
    "        if sourceIP == ip_row['SrcIP'] and destIP == ip_row['DestIP']:\n",
    "            s = ip_row['Bot']\n",
    "            return s\n",
    "    \n",
    "    return 'Other'        "
   ]
  },
  {
   "cell_type": "code",
   "execution_count": 39,
   "metadata": {},
   "outputs": [],
   "source": [
    "labels1 = data.apply(find_class1, axis=1)"
   ]
  },
  {
   "cell_type": "code",
   "execution_count": 40,
   "metadata": {},
   "outputs": [
    {
     "data": {
      "text/plain": [
       "4963"
      ]
     },
     "execution_count": 40,
     "metadata": {},
     "output_type": "execute_result"
    }
   ],
   "source": [
    "len(labels1[labels1 == 'Other']) "
   ]
  },
  {
   "cell_type": "code",
   "execution_count": 41,
   "metadata": {},
   "outputs": [],
   "source": [
    "labels2 = data.apply(find_class2, axis=1)"
   ]
  },
  {
   "cell_type": "code",
   "execution_count": 42,
   "metadata": {},
   "outputs": [
    {
     "data": {
      "text/plain": [
       "9872"
      ]
     },
     "execution_count": 42,
     "metadata": {},
     "output_type": "execute_result"
    }
   ],
   "source": [
    "len(labels2[labels2 == 'Other'])"
   ]
  },
  {
   "cell_type": "code",
   "execution_count": 44,
   "metadata": {},
   "outputs": [
    {
     "data": {
      "text/plain": [
       "10000"
      ]
     },
     "execution_count": 44,
     "metadata": {},
     "output_type": "execute_result"
    }
   ],
   "source": [
    "len(labels1)"
   ]
  },
  {
   "cell_type": "code",
   "execution_count": 45,
   "metadata": {},
   "outputs": [],
   "source": [
    "ls1 = list(labels1.values)"
   ]
  },
  {
   "cell_type": "code",
   "execution_count": 46,
   "metadata": {},
   "outputs": [],
   "source": [
    "ls2 = list(labels2.values)"
   ]
  },
  {
   "cell_type": "code",
   "execution_count": 47,
   "metadata": {},
   "outputs": [
    {
     "data": {
      "text/plain": [
       "10000"
      ]
     },
     "execution_count": 47,
     "metadata": {},
     "output_type": "execute_result"
    }
   ],
   "source": [
    "len(ls1)"
   ]
  },
  {
   "cell_type": "code",
   "execution_count": 48,
   "metadata": {},
   "outputs": [],
   "source": [
    "label = list()"
   ]
  },
  {
   "cell_type": "code",
   "execution_count": 49,
   "metadata": {},
   "outputs": [],
   "source": [
    "# now if a label is \"Other\" in both lists, then it's Normal\n",
    "# if it's \"Other\" in one list only, then we assign the label from the other list\n",
    "for a, b in zip(ls1, ls2):\n",
    "    if a == 'Other' and b == 'Other':\n",
    "        label.append('Normal')\n",
    "    else:\n",
    "        if a == 'Other':\n",
    "            label.append(b)\n",
    "        else:\n",
    "            label.append(a)"
   ]
  },
  {
   "cell_type": "markdown",
   "metadata": {},
   "source": [
    "#### Here we add 'BotNet_Label' column to the data after we filled it as above"
   ]
  },
  {
   "cell_type": "code",
   "execution_count": 50,
   "metadata": {},
   "outputs": [],
   "source": [
    "data['BotNet_Label'] = label"
   ]
  },
  {
   "cell_type": "code",
   "execution_count": 51,
   "metadata": {},
   "outputs": [],
   "source": [
    "#remove spaces from column names\n",
    "data = data.rename(columns=lambda x: x.strip())"
   ]
  },
  {
   "cell_type": "code",
   "execution_count": 52,
   "metadata": {},
   "outputs": [
    {
     "data": {
      "text/plain": [
       "Normal                    4835\n",
       "Weasel Bot                2200\n",
       "Virut                     1363\n",
       "Neris                      823\n",
       "Murlo                      387\n",
       "Menti                      149\n",
       "IRC                        128\n",
       "Zero access                 58\n",
       "TBot                        26\n",
       "Zeus                         9\n",
       "Black hole 2                 9\n",
       "RBot                         3\n",
       "Smoke bot                    2\n",
       "Weasel Botmaster             2\n",
       "Black hole 3                 2\n",
       "IRCbot and black hole1       2\n",
       "Osx_trojan                   1\n",
       "Sogou                        1\n",
       "Name: BotNet_Label, dtype: int64"
      ]
     },
     "execution_count": 52,
     "metadata": {},
     "output_type": "execute_result"
    }
   ],
   "source": [
    "# Explore BotNet_Label values\n",
    "data['BotNet_Label'].value_counts()"
   ]
  },
  {
   "cell_type": "code",
   "execution_count": 53,
   "metadata": {},
   "outputs": [],
   "source": [
    "#remove unimportant columns\n",
    "data.drop(['Source IP','Destination IP','label'],inplace=True,axis=1)"
   ]
  },
  {
   "cell_type": "markdown",
   "metadata": {},
   "source": [
    "### This is how to apply one-hot encoding using Pandas"
   ]
  },
  {
   "cell_type": "code",
   "execution_count": 54,
   "metadata": {},
   "outputs": [],
   "source": [
    "df_src_port = pd.get_dummies(data['Source Port'],prefix='SrcPort')\n",
    "df_dest_port = pd.get_dummies(data['Destination Port'],prefix='DestPort')\n",
    "df_protocol = pd.get_dummies(data['Protocol'],prefix='Protocol')"
   ]
  },
  {
   "cell_type": "code",
   "execution_count": 55,
   "metadata": {},
   "outputs": [
    {
     "data": {
      "text/plain": [
       "(10000, 7610)"
      ]
     },
     "execution_count": 55,
     "metadata": {},
     "output_type": "execute_result"
    }
   ],
   "source": [
    "data = pd.concat([data, df_src_port,df_dest_port,df_protocol], axis=1)\n",
    "data.shape"
   ]
  },
  {
   "cell_type": "code",
   "execution_count": 56,
   "metadata": {},
   "outputs": [
    {
     "data": {
      "text/plain": [
       "(10000, 7607)"
      ]
     },
     "execution_count": 56,
     "metadata": {},
     "output_type": "execute_result"
    }
   ],
   "source": [
    "data.drop(['Source Port','Destination Port','Protocol'],inplace=True,axis=1)\n",
    "data.shape"
   ]
  },
  {
   "cell_type": "markdown",
   "metadata": {},
   "source": [
    "### Save the Data .. it is ready for further analysis and machine learning"
   ]
  },
  {
   "cell_type": "code",
   "execution_count": null,
   "metadata": {},
   "outputs": [],
   "source": [
    "%%time\n",
    "\n",
    "data.to_csv('ISCX_Botnet_Labelled.csv',index=False)\n"
   ]
  },
  {
   "cell_type": "code",
   "execution_count": null,
   "metadata": {},
   "outputs": [],
   "source": []
  }
 ],
 "metadata": {
  "anaconda-cloud": {},
  "kernelspec": {
   "display_name": "Python 3",
   "language": "python",
   "name": "python3"
  },
  "language_info": {
   "codemirror_mode": {
    "name": "ipython",
    "version": 3
   },
   "file_extension": ".py",
   "mimetype": "text/x-python",
   "name": "python",
   "nbconvert_exporter": "python",
   "pygments_lexer": "ipython3",
   "version": "3.7.1"
  }
 },
 "nbformat": 4,
 "nbformat_minor": 1
}
